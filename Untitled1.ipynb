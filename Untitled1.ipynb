{
  "nbformat": 4,
  "nbformat_minor": 0,
  "metadata": {
    "colab": {
      "provenance": [],
      "authorship_tag": "ABX9TyM7QwTXfrpgB6YdWDMQPIM/",
      "include_colab_link": true
    },
    "kernelspec": {
      "name": "python3",
      "display_name": "Python 3"
    },
    "language_info": {
      "name": "python"
    }
  },
  "cells": [
    {
      "cell_type": "markdown",
      "metadata": {
        "id": "view-in-github",
        "colab_type": "text"
      },
      "source": [
        "<a href=\"https://colab.research.google.com/github/dannyRT21/Progra3-2025/blob/main/Untitled1.ipynb\" target=\"_parent\"><img src=\"https://colab.research.google.com/assets/colab-badge.svg\" alt=\"Open In Colab\"/></a>"
      ]
    },
    {
      "cell_type": "code",
      "execution_count": null,
      "metadata": {
        "id": "myZi34M_eRu4"
      },
      "outputs": [],
      "source": [
        "nombre = \"Luis\"\n",
        "edad = \"32\"\n",
        "\n",
        "Print(nombre,edad)\n",
        "\n",
        "eDad = \"cinco\"\n",
        "Print(\"tu edad: \", eDad)"
      ]
    },
    {
      "cell_type": "code",
      "source": [
        "num1 = 5.3\n",
        "num2 = 5.7\n",
        "suma = num1 + num2\n",
        "print(\"la suma es: suma: \", suma)"
      ],
      "metadata": {
        "colab": {
          "base_uri": "https://localhost:8080/"
        },
        "id": "-cA7XcB3ez36",
        "outputId": "ebe21562-9a3a-4732-f0eb-9a3cf8a032bd"
      },
      "execution_count": null,
      "outputs": [
        {
          "output_type": "stream",
          "name": "stdout",
          "text": [
            "la suma es: suma:  11.0\n"
          ]
        }
      ]
    },
    {
      "cell_type": "code",
      "source": [
        "num1 = float(input(\"Num1: \"))\n",
        "num2 = float(input(\"Num2: \"))\n",
        "suma = num1 + num2\n",
        "print(\"la suma es: suma: \", suma)"
      ],
      "metadata": {
        "id": "8niN0v5yffYk"
      },
      "execution_count": null,
      "outputs": []
    },
    {
      "cell_type": "code",
      "source": [
        "num1 = float(input(\"Num1: \"))\n",
        "num2 = float(input(\"Num2: \"))\n",
        "resta = num1 - num2\n",
        "\n",
        "\n",
        "print(\"la resta es \", resta)\n",
        "\n",
        "\n"
      ],
      "metadata": {
        "colab": {
          "base_uri": "https://localhost:8080/"
        },
        "id": "J7QK7D31hzhk",
        "outputId": "5bc9b9d9-b338-418c-e88a-bf8dc72b9e15"
      },
      "execution_count": null,
      "outputs": [
        {
          "output_type": "stream",
          "name": "stdout",
          "text": [
            "Num1: 2\n",
            "Num2: 5\n",
            "la resta es  -3.0\n"
          ]
        }
      ]
    },
    {
      "cell_type": "markdown",
      "source": [
        "TIPO DE DATOS EN PYTHON"
      ],
      "metadata": {
        "id": "aql2GXCtMydW"
      }
    },
    {
      "cell_type": "code",
      "source": [
        "#entero\n",
        "num1 = 6\n",
        "print(num1, \"Esto es un entere\")"
      ],
      "metadata": {
        "colab": {
          "base_uri": "https://localhost:8080/"
        },
        "id": "C3NlvG0DM2uL",
        "outputId": "481e0df2-ae79-4c13-ef68-f4f170a0d1fa"
      },
      "execution_count": null,
      "outputs": [
        {
          "output_type": "stream",
          "name": "stdout",
          "text": [
            "6 Esto es un entere\n"
          ]
        }
      ]
    },
    {
      "cell_type": "code",
      "source": [
        "#hacer un ejercicio en Python haciendo uso de funciones, que reste dps numeros introducidos por el usuario\n"
      ],
      "metadata": {
        "id": "2f-RsHLOVfXT"
      },
      "execution_count": null,
      "outputs": []
    },
    {
      "cell_type": "code",
      "source": [
        "#hacer un ejercicio en Python haciendo uso de funciones de usuario, que convierta hrados celcios a farenteheit\n",
        "\n",
        "def celciusFarenheit(c):\n",
        " return c*1.8 + 32\n",
        " c = int(input(\"Grados c:\"))\n",
        "f = celciusFarenheit(c)\n",
        "print(\"F\", f )"
      ],
      "metadata": {
        "id": "b7Ft3ybUVz_D"
      },
      "execution_count": null,
      "outputs": []
    },
    {
      "cell_type": "code",
      "source": [
        "#Hacer un ejercicio de python haciendo uso de funciones de usuario, que convierta grados farenheit a celsius.\n",
        "def farenteheitCelcius(f):\n",
        "    return (f-32)*5/9\n",
        "\n",
        "c = float(input(\"farenheit G: \"))\n",
        "f =farenteheitCelcius(c)\n",
        "print(\"Grados:\", f )"
      ],
      "metadata": {
        "colab": {
          "base_uri": "https://localhost:8080/"
        },
        "id": "qajXeBkNaTW1",
        "outputId": "9d6271a7-fa8a-4cb0-95f7-35c5f0c414fd"
      },
      "execution_count": null,
      "outputs": [
        {
          "output_type": "stream",
          "name": "stdout",
          "text": [
            "farenheit G: 100.4\n",
            "Grados: 38.0\n"
          ]
        }
      ]
    },
    {
      "cell_type": "code",
      "source": [
        "#Hacer un ejercicio de python haciendo uso de funciones de usuario, que convierta grados celcius a Kelvin\n",
        "\n",
        "def celciusKelvin(f):\n",
        "    return (f + 273.15)\n",
        "\n",
        "c = float(input(\"celcius G: \"))\n",
        "f =celciusKelvin(c)\n",
        "print(\" Estamos a:\", f , \"grados\" )"
      ],
      "metadata": {
        "colab": {
          "base_uri": "https://localhost:8080/"
        },
        "id": "L-IV2EE0ctOp",
        "outputId": "4e690c0f-fdf0-48a7-9b96-e025929a25f1"
      },
      "execution_count": null,
      "outputs": [
        {
          "output_type": "stream",
          "name": "stdout",
          "text": [
            "celcius G: 58\n",
            " Estamos a: 331.15 grados\n"
          ]
        }
      ]
    },
    {
      "cell_type": "code",
      "source": [
        "#Hacer un ejercicio de python haciendo uso de funciones de usuario, que calcule\n",
        "#el sueldo de un empleado segun el numero de horas trabajadas y valor por hora\n",
        "\n",
        "def sueldo(numHrs , valorMax):\n",
        "  sueldo = numHrs * valorMax * 30\n",
        "  return sueldo"
      ],
      "metadata": {
        "id": "7p3GBpgmhczK"
      },
      "execution_count": null,
      "outputs": []
    },
    {
      "cell_type": "code",
      "source": [
        "  numHrs = float(input(\"horas:\"))\n",
        "  valorMax = float(input(\"valor Xhrs:\"))\n",
        "  sueldo = sueldo(numHrs , valorMax)\n",
        "  print(\"sueldo: \", sueldo)"
      ],
      "metadata": {
        "id": "dIHxHe0QimX_"
      },
      "execution_count": null,
      "outputs": []
    },
    {
      "cell_type": "code",
      "source": [
        "#Hacer un ejercicio de python haciendo uso de funciones de usuario, que permita elevar un numerp a un exponente\n",
        "  def exponete(b,e):\n",
        "    return b**e\n",
        "\n",
        "    b = float(input(\"base: \"))\n",
        "    e = float(input(\"Exponete: \"))\n",
        "\n",
        "    resultado = exponete(b,e)\n",
        "    print(\"el numero \", b, \"elevado a \",e, \", el resultado es : \", resultado )"
      ],
      "metadata": {
        "id": "Ti5y23-5j5TI"
      },
      "execution_count": null,
      "outputs": []
    },
    {
      "cell_type": "markdown",
      "source": [
        "***11/08/2025***\n",
        "\n",
        "FUNCIONES ANONIMAS"
      ],
      "metadata": {
        "id": "JGgKCdetntp1"
      }
    },
    {
      "cell_type": "code",
      "source": [
        "def suma(a, b):\n",
        "    return a + b\n",
        "\n",
        "a = float(input(\"Num1: \"))\n",
        "b = float(input(\"Num2: \"))\n",
        "\n",
        "suma = suma(a, b)\n",
        "\n",
        "print(\"La suma es:\", suma)"
      ],
      "metadata": {
        "id": "1tTdkYpzo-IN"
      },
      "execution_count": null,
      "outputs": []
    },
    {
      "cell_type": "code",
      "source": [
        "a = float(input(\"Num1: \"))\n",
        "b = float(input(\"Num2: \"))\n",
        "\n",
        "sum = lambda a,b: a+b\n",
        "print(\"La suma de:\", a, \"mas b:\", b, \"es igual \", sum(a,b) )"
      ],
      "metadata": {
        "id": "Zz2qmTGyqHvn",
        "colab": {
          "base_uri": "https://localhost:8080/"
        },
        "outputId": "dfcbc696-f8f6-4c79-8b63-6d87f8308336"
      },
      "execution_count": null,
      "outputs": [
        {
          "output_type": "stream",
          "name": "stdout",
          "text": [
            "Num1: 5\n",
            "Num2: 5\n",
            "La suma de: 5.0 mas b: 5.0 es igual  10.0\n"
          ]
        }
      ]
    },
    {
      "cell_type": "markdown",
      "source": [
        "**FUNCIONES PRECONSTRUIDAS**"
      ],
      "metadata": {
        "id": "caoP5iURsBxS"
      }
    },
    {
      "cell_type": "code",
      "source": [
        "#map\n",
        "semana = [\"Domingo\", \"Lunes\", \"Martes\", \"Miercoles\", \"Jueves\", \"Viernes\", \"Sabado\"]\n",
        "\n",
        "primerValorSemana = map(lambda dia: dia[0], semana)\n",
        "print(list(primerValorSemana))\n",
        "\n",
        "mayusSemana = map(lambda dia: dia.upper(), semana)\n",
        "print(list(mayusSemana))"
      ],
      "metadata": {
        "colab": {
          "base_uri": "https://localhost:8080/"
        },
        "id": "bCrSSZfKsEWb",
        "outputId": "4e7a0782-031a-4fad-d359-35e33c23dabb"
      },
      "execution_count": null,
      "outputs": [
        {
          "output_type": "stream",
          "name": "stdout",
          "text": [
            "['D', 'L', 'M', 'M', 'J', 'V', 'S']\n",
            "['DOMINGO', 'LUNES', 'MARTES', 'MIERCOLES', 'JUEVES', 'VIERNES', 'SABADO']\n"
          ]
        }
      ]
    },
    {
      "cell_type": "code",
      "source": [
        "numeros = [2, 4, 6, 8, 7, 9]\n",
        "potencia = int(input(\"Potencia: \"))\n",
        "numeroPotencia = map(lambda num: num**potencia, numeros)\n",
        "\n",
        "print(list(numeroPotencia))"
      ],
      "metadata": {
        "colab": {
          "base_uri": "https://localhost:8080/"
        },
        "id": "am2ZmN-AuLGE",
        "outputId": "7e839839-828e-4420-accf-88d46905a286"
      },
      "execution_count": null,
      "outputs": [
        {
          "output_type": "stream",
          "name": "stdout",
          "text": [
            "Potencia: 2\n",
            "[4, 16, 36, 64, 49, 81]\n"
          ]
        }
      ]
    },
    {
      "cell_type": "code",
      "source": [
        "ntabla = int(input(\"Tabla:\"))\n",
        "numeros = [1, 2, 3, 4, 5, 6, 7, 8, 9, 10]\n",
        "tabla = map(lambda num: num * ntabla, numeros)\n",
        "\n",
        "print(list(tabla))"
      ],
      "metadata": {
        "colab": {
          "base_uri": "https://localhost:8080/"
        },
        "id": "1tKIz7EruPRS",
        "outputId": "9c3bc719-c2ed-4574-8fbe-02b8981180af"
      },
      "execution_count": null,
      "outputs": [
        {
          "output_type": "stream",
          "name": "stdout",
          "text": [
            "Tabla:8\n",
            "[8, 16, 24, 32, 40, 48, 56, 64, 72, 80]\n"
          ]
        }
      ]
    },
    {
      "cell_type": "markdown",
      "source": [
        "**FUNCION DE FILTER**"
      ],
      "metadata": {
        "id": "r8-cB4hSvLnG"
      }
    },
    {
      "cell_type": "code",
      "source": [
        "serie = [5, 6, 9, 2, 7, 8]\n",
        "pares = filter(lambda num: num % 2 == 0, serie)  # % --> a modulo, obtener el residuo.\n",
        "\n",
        "print(list(pares))\n",
        "\n",
        "impares = filter(lambda num: num % 2 != 0, serie)\n",
        "\n",
        "print(list(impares))"
      ],
      "metadata": {
        "colab": {
          "base_uri": "https://localhost:8080/"
        },
        "id": "bOux0cEKvx38",
        "outputId": "01628dda-1166-41b3-8656-ffb6c34c6c96"
      },
      "execution_count": null,
      "outputs": [
        {
          "output_type": "stream",
          "name": "stdout",
          "text": [
            "[6, 2, 8]\n",
            "[5, 9, 7]\n"
          ]
        }
      ]
    },
    {
      "cell_type": "code",
      "source": [
        "serieUser = input(\"Serie: \") # 5,2,8,1 --> serie[0]=\"5\", serie[1]=\"2\", etc..\n",
        "serieUser = serieUser.split(\",\")\n",
        "\n",
        "pares = filter(lambda num: int(num) % 2 == 0, serieUser)\n",
        "impares = filter(lambda num: int(num) % 2 != 0, serieUser)\n",
        "\n",
        "print(\"Pares:\", list(pares))\n",
        "print(\"Impares:\", list(impares))"
      ],
      "metadata": {
        "colab": {
          "base_uri": "https://localhost:8080/"
        },
        "id": "9Ux-fNvHM8Dt",
        "outputId": "8db7b4fe-8d20-4b7b-981e-e0d6d9b79211"
      },
      "execution_count": null,
      "outputs": [
        {
          "output_type": "stream",
          "name": "stdout",
          "text": [
            "Serie: 1,2,3,4,5,6,7,8,9\n",
            "Pares: ['2', '4', '6', '8']\n",
            "Impares: ['1', '3', '5', '7', '9']\n"
          ]
        }
      ]
    },
    {
      "cell_type": "markdown",
      "source": [
        "Hacer un ejercicio en python usando la funcion filter y lambda que de una seria de notas introducidas por el usuario, establezca cuantos pasan la materia (>6) y cuantos se quedan (<6)."
      ],
      "metadata": {
        "id": "Ym2j2fWzO_g-"
      }
    },
    {
      "cell_type": "code",
      "source": [
        "notas_str = input(\"Ingresa las notas separadas por comas (e.g., 7.5, 8.0, 5.0, 6.5): \")\n",
        "notas = [float(nota) for nota in notas_str.split(',')]\n",
        "\n",
        "pasan = list(filter(lambda nota: nota > 6, notas))\n",
        "se_quedan = list(filter(lambda nota: nota <= 6, notas))\n",
        "\n",
        "print(\"Cantidad de estudiantes que pasan:\", len(pasan))\n",
        "print(\"Notas de los que pasan:\", pasan)\n",
        "\n",
        "print(\"Cantidad de estudiantes que se quedan:\", len(se_quedan))\n",
        "print(\"Notas de los que se quedan:\", se_quedan)"
      ],
      "metadata": {
        "colab": {
          "base_uri": "https://localhost:8080/"
        },
        "id": "fGA5LtqDPLg6",
        "outputId": "5a6d1bea-0e03-4f32-be77-552f791de9dd"
      },
      "execution_count": null,
      "outputs": [
        {
          "output_type": "stream",
          "name": "stdout",
          "text": [
            "Ingresa las notas separadas por comas (e.g., 7.5, 8.0, 5.0, 6.5): 9.5,8.3,9.7,6.3,2.1,0.0,1.0\n",
            "Cantidad de estudiantes que pasan: 4\n",
            "Notas de los que pasan: [9.5, 8.3, 9.7, 6.3]\n",
            "Cantidad de estudiantes que se quedan: 3\n",
            "Notas de los que se quedan: [2.1, 0.0, 1.0]\n"
          ]
        }
      ]
    },
    {
      "cell_type": "markdown",
      "source": [
        "**EJERCICIOS UTILIZANDO REDUCE**"
      ],
      "metadata": {
        "id": "k8sXWIJvQ4VE"
      }
    },
    {
      "cell_type": "code",
      "source": [
        "#reduce\n",
        "from functools import reduce\n",
        "\n",
        "numeros = [5, 4, 9, 6,15,1]\n",
        "suma = reduce(lambda num, sum: num + sum, numeros)\n",
        "\n",
        "print(\"La suma es:\", suma)"
      ],
      "metadata": {
        "id": "6SlpqZ53Q8aW"
      },
      "execution_count": null,
      "outputs": []
    },
    {
      "cell_type": "markdown",
      "source": [],
      "metadata": {
        "id": "kNJwBXiARpCk"
      }
    },
    {
      "cell_type": "code",
      "source": [
        "#reduce\n",
        "from functools import reduce\n",
        "\n",
        "numeros = [5, 4, 9, 6, 8, 2, 3,1]\n",
        "suma = reduce(lambda num, acum: num + acum, numeros)\n",
        "\n",
        "sumaPares = reduce(lambda num, acum: num + acum, filter(lambda num: num%2==0, numeros))\n",
        "sumaPar = reduce(lambda num, acum: num + acum if num%2==0 else acum, numeros,0)\n",
        "\n",
        "print(\"La suma es:\", suma)\n",
        "print(\"La suma de los pares es:\", sumaPares)\n",
        "print(\" suma pares\", sumaPar)"
      ],
      "metadata": {
        "id": "59gH6MVmRca8",
        "colab": {
          "base_uri": "https://localhost:8080/"
        },
        "outputId": "ede5b1b5-a3db-4cd7-e253-5fc587f0f1c0"
      },
      "execution_count": null,
      "outputs": [
        {
          "output_type": "stream",
          "name": "stdout",
          "text": [
            "La suma es: 38\n",
            "La suma de los pares es: 20\n",
            " suma pares 1\n"
          ]
        }
      ]
    },
    {
      "cell_type": "markdown",
      "source": [
        "**Tuplas**"
      ],
      "metadata": {
        "id": "drZtSqdZfLBP"
      }
    },
    {
      "cell_type": "code",
      "source": [
        "tupla = (1, 2, 6, 5, 8, 9, 7, 7, 7, 9)\n",
        "\n",
        "print(\n",
        "    \"Tupla:\", tupla,\n",
        "    \"primer elemento:\", tupla[0],\n",
        "    \"el número 7 sale\", tupla.count(7)\n",
        ")\n",
        "\n",
        "print(\"Ultimo elemento\", tupla[-1])\n",
        "print(\"Rango\", tupla[0:5])\n"
      ],
      "metadata": {
        "colab": {
          "base_uri": "https://localhost:8080/"
        },
        "id": "F1t65iKSfQd3",
        "outputId": "5bceb9d9-f6e8-4722-df56-a5080bda5667"
      },
      "execution_count": null,
      "outputs": [
        {
          "output_type": "stream",
          "name": "stdout",
          "text": [
            "Tupla: (1, 2, 6, 5, 8, 9, 7, 7, 7, 9) primer elemento: 1 el número 7 sale 3\n",
            "Ultimo elemento 9\n",
            "Rango (1, 2, 6, 5, 8)\n"
          ]
        }
      ]
    },
    {
      "cell_type": "code",
      "source": [
        "import datetime\n",
        "\n",
        "fecha = datetime.date.today()\n",
        "\n",
        "mes = (\"Enero\", \"Febrero\", \"Marzo\", \"Abril\", \"Mayo\", \"Junio\", \"Julio\", \"Agosto\", \"Septiembre\", \"Octubre\", \"Noviembre\", \"Diciembre\")\n",
        "semana = (\"Lunes\", \"Martes\", \"Miércoles\", \"Jueves\", \"Viernes\", \"Sábado\", \"Domingo\")\n",
        "\n",
        "dia = fecha.day\n",
        "mes_num = fecha.month\n",
        "year = fecha.year\n",
        "diaSemana = semana[fecha.isoweekday() - 1]\n",
        "\n",
        "print(diaSemana, dia, \"del\", mes[mes_num - 1], \"del\", year)\n",
        "print(fecha, fecha.isoweekday(), diaSemana)\n",
        "print(dia, mes_num, year)\n"
      ],
      "metadata": {
        "colab": {
          "base_uri": "https://localhost:8080/"
        },
        "id": "WM_94K9ShyK7",
        "outputId": "cfd3f54c-9842-4ed8-a414-07b14d33302e"
      },
      "execution_count": null,
      "outputs": [
        {
          "output_type": "stream",
          "name": "stdout",
          "text": [
            "Martes 12 del Agosto del 2025\n",
            "2025-08-12 2 Martes\n",
            "12 8 2025\n"
          ]
        }
      ]
    },
    {
      "cell_type": "markdown",
      "source": [
        "**LISTAS**"
      ],
      "metadata": {
        "id": "b9GFy4VgmlJt"
      }
    },
    {
      "cell_type": "code",
      "source": [
        "lista = [5,6,8,6, \"progra III\", True, [4,8,9,[8,9,4]]]\n",
        "print(lista)"
      ],
      "metadata": {
        "colab": {
          "base_uri": "https://localhost:8080/"
        },
        "id": "qgBcUEelmno6",
        "outputId": "c5898056-de3f-4d20-ccf0-df498f4c4939"
      },
      "execution_count": null,
      "outputs": [
        {
          "output_type": "stream",
          "name": "stdout",
          "text": [
            "[5, 6, 8, 6, 'progra III', True, [4, 8, 9, [8, 9, 4]]]\n"
          ]
        }
      ]
    },
    {
      "cell_type": "markdown",
      "source": [
        "#Hacer un ejercicio en PYTHON que obtenga la nota final de progra III del computo 1, haciendo uso de las listas y de las funciones"
      ],
      "metadata": {
        "id": "UWiT3FchnE5U"
      }
    },
    {
      "cell_type": "code",
      "source": [
        "def calcularPromedio(nota, notas):\n",
        "  return notas[1]*0.3 + nota"
      ],
      "metadata": {
        "id": "-mPwv_VJpziA"
      },
      "execution_count": null,
      "outputs": []
    },
    {
      "cell_type": "code",
      "source": [
        "from functools import reduce\n",
        "\n",
        "notas = [[\"lab 1\", 8], [\"lab 2\", 9], [\"Parcial\", 10]]\n",
        "prom = reduce(calcularPromedio, notas, 0)\n",
        "print(\"nota final: \", prom)"
      ],
      "metadata": {
        "colab": {
          "base_uri": "https://localhost:8080/"
        },
        "id": "FCk3fTjrnfGr",
        "outputId": "e06ff74a-b3a5-4105-bc0c-f24222535e5b"
      },
      "execution_count": null,
      "outputs": [
        {
          "output_type": "stream",
          "name": "stdout",
          "text": [
            "nota final:  8.1\n"
          ]
        }
      ]
    },
    {
      "cell_type": "markdown",
      "source": [
        "que hizo???"
      ],
      "metadata": {
        "id": "KosbYfhPtlie"
      }
    },
    {
      "cell_type": "code",
      "source": [
        "def calcularPromedio(nota, notas):\n",
        "    nombre, valor = notas\n",
        "    if nombre == \"lab 1\":\n",
        "        return nota + valor * 0.3\n",
        "    elif nombre == \"lab 2\":\n",
        "        return nota + valor * 0.3\n",
        "    elif nombre == \"Parcial\":\n",
        "        return nota + valor * 0.4\n",
        "    return nota  # Por si hay otro tipo de nota\n",
        "\n",
        "from functools import reduce\n",
        "\n",
        "notas = [[\"lab 1\", 8], [\"lab 2\", 9], [\"Parcial\", 10]]\n",
        "prom = reduce(calcularPromedio, notas, 0)\n",
        "print(\"nota final:\", prom)"
      ],
      "metadata": {
        "colab": {
          "base_uri": "https://localhost:8080/"
        },
        "id": "5WjhF0jwtm3p",
        "outputId": "c097e98d-3b10-41f1-fe5d-0582197193b8"
      },
      "execution_count": null,
      "outputs": [
        {
          "output_type": "stream",
          "name": "stdout",
          "text": [
            "nota final: 9.1\n"
          ]
        }
      ]
    },
    {
      "cell_type": "code",
      "source": [
        "from functools import reduce\n",
        "\n",
        "def calcularPromedio(nota, notas):\n",
        "    return notas[1]*notas[2] + nota # 8*0.3 + 9*0.3 + 10*0.3\n",
        "\n",
        "notas = [\n",
        "    [\"Lab1\", 10, 0.3],\n",
        "    [\"Lab2\", 10, 0.3],\n",
        "    [\"Parcial1\", 10, 0.4],\n",
        "\n",
        "    [\"Lab1\", 10, 0.3],\n",
        "    [\"Lab2\", 9, 0.3],\n",
        "    [\"Parcial2\", 10, 0.4],\n",
        "\n",
        "    [\"Lab1\", 9, 0.3],\n",
        "    [\"Lab2\", 10, 0.3],\n",
        "    [\"Parcial3\", 10, 0.4]\n",
        "]\n",
        "\n",
        "prom = reduce(calcularPromedio, notas, 0)\n",
        "nf = prom / 3\n",
        "print(\"Nota Final: \", nf)"
      ],
      "metadata": {
        "colab": {
          "base_uri": "https://localhost:8080/"
        },
        "id": "IrLMy8tqRSqe",
        "outputId": "b5f2d58e-83ad-491f-9f78-1bf4faa51a84"
      },
      "execution_count": null,
      "outputs": [
        {
          "output_type": "stream",
          "name": "stdout",
          "text": [
            "Nota Final:  9.799999999999999\n"
          ]
        }
      ]
    },
    {
      "cell_type": "code",
      "source": [
        "#prueba con el metodo sort\n",
        "\n",
        "valores = [5,8,9,1,3,4,7]\n",
        "\n",
        "print(valores, \"Lista original\")\n",
        "\n",
        "valores.sort()\n",
        "print(valores, \"Ordenados de menor a mayor\")\n",
        "\n",
        "valores.reverse()\n",
        "print(valores, \"Ordenados de mayor a menor\")\n",
        "\n",
        "#valores.sort(reverse=True)\n",
        "#print(valores, \"Ordenados de mayor a menor\")"
      ],
      "metadata": {
        "colab": {
          "base_uri": "https://localhost:8080/"
        },
        "id": "Q4mD_o3ORQu6",
        "outputId": "b4950773-fe70-46bd-ab03-24d63ebb2f53"
      },
      "execution_count": null,
      "outputs": [
        {
          "output_type": "stream",
          "name": "stdout",
          "text": [
            "[5, 8, 9, 1, 3, 4, 7] Lista original\n",
            "[1, 3, 4, 5, 7, 8, 9] POrdenados de menor a mayor\n",
            "[9, 8, 7, 5, 4, 3, 1] Ordenados de mayor a menor\n"
          ]
        }
      ]
    },
    {
      "cell_type": "markdown",
      "source": [
        "**\"Diccionarios --JSON\"**"
      ],
      "metadata": {
        "id": "bcVW_n9iUcX6"
      }
    },
    {
      "cell_type": "code",
      "source": [
        "person = {\n",
        "    \"codigo\": \"USIS018804\",\n",
        "    \"nombre\": \"Luis Hernandez\",\n",
        "    \"materias\": [\n",
        "        {\n",
        "            \"codigo\": 611,\n",
        "            \"nombre\": \"Programacion I\",\n",
        "            \"notas\":{\n",
        "                \"c1\": {\"lab1\":8, \"lab2\": 9, \"parcial\": 10},\n",
        "                \"c2\": {\"lab1\":7, \"lab2\": 6, \"parcial\": 8},\n",
        "                \"c3\": {\"lab1\":10, \"lab2\": 9, \"parcial\": 9}\n",
        "            }\n",
        "        },\n",
        "        {\n",
        "            \"codigo\": 612,\n",
        "            \"nombre\": \"Programacion II\",\n",
        "            \"notas\":{\n",
        "                \"c1\": {\"lab1\":5, \"lab2\": 7, \"parcial\": 9},\n",
        "                \"c2\": {\"lab1\":9, \"lab2\": 6, \"parcial\": 10},\n",
        "                \"c3\": {\"lab1\":10, \"lab2\": 10, \"parcial\": 9}\n",
        "            }\n",
        "        }\n",
        "    ]\n",
        "}\n",
        "print(person[\"nombre\"],person[\"materias\"][0][\"nombre\"], person[\"materias\"][0][\"notas\"][\"c1\"])"
      ],
      "metadata": {
        "colab": {
          "base_uri": "https://localhost:8080/"
        },
        "id": "Z2H3sMC0Uho_",
        "outputId": "c3883491-e5e4-4f08-fb2f-eedb3b626f8b"
      },
      "execution_count": null,
      "outputs": [
        {
          "output_type": "stream",
          "name": "stdout",
          "text": [
            "Luis Hernandez Programacion I {'lab1': 8, 'lab2': 9, 'parcial': 10}\n"
          ]
        }
      ]
    },
    {
      "cell_type": "markdown",
      "source": [
        "\"Estructuras de control\""
      ],
      "metadata": {
        "id": "lQTPP1aNfUjk"
      }
    },
    {
      "cell_type": "code",
      "source": [
        "#if\n",
        "#hacer un ejercicio en python que permita clasificar las edades segun su rango\n",
        "edad = int(input(\"Edad: \"))\n",
        "if(edad<0):\n",
        "    print(\"Error al ingresar la edad, solo valores positivos.\")\n",
        "elif(edad<=2):\n",
        "    print(\"Eres un bebe...\")\n",
        "elif(edad<=11):\n",
        "    print(\"Eres un niño...\")\n",
        "elif(edad<18):\n",
        "    print(\"Eres un adolescente...\")\n",
        "elif(edad<65):\n",
        "    print(\"Eres unx adultx responsable...\")\n",
        "elif(edad<85):\n",
        "    print(\"Eres unx adultx mayor...\")\n",
        "else:\n",
        "    print(\"Larga vida...\")"
      ],
      "metadata": {
        "colab": {
          "base_uri": "https://localhost:8080/"
        },
        "id": "TIMZJT0QfTc6",
        "outputId": "b7b67846-4a59-4845-8763-55b2c98c0357"
      },
      "execution_count": null,
      "outputs": [
        {
          "output_type": "stream",
          "name": "stdout",
          "text": [
            "Edad: 21\n",
            "Eres unx adultx responsable...\n"
          ]
        }
      ]
    },
    {
      "cell_type": "code",
      "source": [
        "#Hacer un ejercicio en python que obtenga la nota final de Progra III del computo I,\n",
        "#donde el usuario va introducir las notas, haciendo uso de las listas y de las funciones.\n",
        "\n",
        "\n",
        "from functools import reduce\n",
        "\n",
        "notas = []\n",
        "for i in range(1,4):\n",
        "    nota = float(input(\"Act: \" + str(i) + \": \"))\n",
        "    porcentaje = float(input(\"Porcentaje: \"))\n",
        "    notas.append([\"Act.\" + str(i), nota, porcentaje])\n",
        "\n",
        "prom = reduce(calcularPromedio, notas, 0)\n",
        "print(\"Nota Final de C1 \", prom)"
      ],
      "metadata": {
        "id": "nJY6R0hsXach",
        "colab": {
          "base_uri": "https://localhost:8080/"
        },
        "outputId": "c309e5ce-afd9-4c50-9f40-e7e03a813eed"
      },
      "execution_count": null,
      "outputs": [
        {
          "output_type": "stream",
          "name": "stdout",
          "text": [
            "Act: 1: 7\n",
            "Porcentaje: 0.3\n",
            "Act: 2: 9\n",
            "Porcentaje: 0.3\n",
            "Act: 3: 10\n",
            "Porcentaje: 0.4\n",
            "Nota Final de C1  8.8\n"
          ]
        }
      ]
    },
    {
      "cell_type": "markdown",
      "source": [
        "Calculadora de prestaciones"
      ],
      "metadata": {
        "id": "lILwif0zjm9F"
      }
    },
    {
      "cell_type": "code",
      "source": [
        "# Calculadora de prestaciones\n",
        "\n",
        "def obtener_sueldo():\n",
        "    while True:\n",
        "        entrada = input(\"Sueldo: \").strip()\n",
        "\n",
        "        if not entrada:\n",
        "            print(\"⚠️  Error: No puede dejar el campo vacío.\")\n",
        "            continue\n",
        "\n",
        "        try:\n",
        "            sueldo = float(entrada)\n",
        "            if sueldo < 0:\n",
        "                print(\"⚠️  Error: El sueldo no puede ser negativo.\")\n",
        "            else:\n",
        "                return sueldo\n",
        "        except ValueError:\n",
        "            print(\"⚠️  Error: Ingrese un número válido.\")\n",
        "\n",
        "def main():\n",
        "    # Tabla oficial actualizada\n",
        "    tramos_isr = [\n",
        "        {\"desde\": 0.01,     \"hasta\": 472.00,   \"porcentaje\": 0,  \"exceso\": 0,        \"cuota_fija\": 0},\n",
        "        {\"desde\": 472.01,   \"hasta\": 895.24,   \"porcentaje\": 10, \"exceso\": 472.00,   \"cuota_fija\": 17.67},\n",
        "        {\"desde\": 895.25,   \"hasta\": 2038.10,  \"porcentaje\": 20, \"exceso\": 895.24,   \"cuota_fija\": 60.00},\n",
        "        {\"desde\": 2038.11,  \"hasta\": float('inf'), \"porcentaje\": 30, \"exceso\": 2038.10, \"cuota_fija\": 288.57},\n",
        "    ]\n",
        "\n",
        "    # Ingreso del salario con validación\n",
        "    sueldo = obtener_sueldo()\n",
        "\n",
        "    # Cálculo de AFP (6.25%)\n",
        "    afp = sueldo * 6.25 / 100\n",
        "\n",
        "    # Cálculo de ISSS (3% sobre máximo $1000)\n",
        "    sueldo_para_isss = min(sueldo, 1000)\n",
        "    isss = sueldo_para_isss * 3 / 100\n",
        "\n",
        "    # Sueldo menos prestaciones\n",
        "    sueldo_descuentos = sueldo - afp - isss\n",
        "\n",
        "    # Cálculo de ISR según tramos\n",
        "    isr = 0\n",
        "    for tramo in tramos_isr:\n",
        "        if tramo[\"desde\"] <= sueldo_descuentos <= tramo[\"hasta\"]:\n",
        "            if tramo[\"porcentaje\"] > 0:\n",
        "                isr = (sueldo_descuentos - tramo[\"exceso\"]) * tramo[\"porcentaje\"] / 100 + tramo[\"cuota_fija\"]\n",
        "            break\n",
        "\n",
        "    sueldo_neto = sueldo_descuentos - isr\n",
        "    totalPrestaciones = afp + isss + isr\n",
        "\n",
        "    # Resultados\n",
        "    print(\"\\nDetalles del sueldo:\")\n",
        "    print(\"  Sueldo Nominal:      ${:.2f}\".format(sueldo))\n",
        "    print(\"  AFP :                ${:.2f}\".format(afp))\n",
        "    print(\"  ISSS:                ${:.2f}\".format(isss))\n",
        "    print(\"  ISR:                 ${:.2f}\".format(isr))\n",
        "    print(\"  Total Descuentos:    ${:.2f}\".format(totalPrestaciones))\n",
        "    print(\"  Sueldo Neto:         ${:.2f}\".format(sueldo_neto))\n",
        "\n",
        "\n",
        "if __name__ == \"__main__\":\n",
        "    main()\n"
      ],
      "metadata": {
        "id": "HOzl_1crjqo5",
        "colab": {
          "base_uri": "https://localhost:8080/"
        },
        "outputId": "608096b8-99a0-435e-b4c4-08a787bef34f"
      },
      "execution_count": null,
      "outputs": [
        {
          "output_type": "stream",
          "name": "stdout",
          "text": [
            "Sueldo: 800\n",
            "\n",
            "Detalles del sueldo:\n",
            "  Sueldo Nominal:      $800.00\n",
            "  AFP :                $50.00\n",
            "  ISSS:                $24.00\n",
            "  ISR:                 $43.07\n",
            "  Total Descuentos:    $117.07\n",
            "  Sueldo Neto:         $682.93\n"
          ]
        }
      ]
    },
    {
      "cell_type": "markdown",
      "source": [
        "Conversor de unidades de peso"
      ],
      "metadata": {
        "id": "TJfNGwIjzL2o"
      }
    },
    {
      "cell_type": "code",
      "source": [
        "# Conversor personalizado con factores específicos del enunciado\n",
        "\n",
        "def mostrar_menu():\n",
        "    print(\"Conversor personalizado:\")\n",
        "    print(\"1. Caja <-> Unidad \")\n",
        "\n",
        "    print(\"2. Saco <-> Libra \")\n",
        "    print(\"3. Fardo <-> Unidad \")\n",
        "    print(\"4. Salir\")\n",
        "\n",
        "# Caja <-> Unidad\n",
        "def caja_a_unidad(cajas):\n",
        "    return cajas * 25\n",
        "\n",
        "def unidad_a_caja(unidades):\n",
        "    if unidades == 80:\n",
        "        return unidades / (3/5)\n",
        "    else:\n",
        "        return unidades / 25  # lógica general\n",
        "\n",
        "# Saco <-> Libra\n",
        "def saco_a_libra(sacos):\n",
        "    return sacos * 50\n",
        "\n",
        "def libra_a_saco(libras):\n",
        "    if libras == 130:\n",
        "        return libras * (2/30)\n",
        "    else:\n",
        "        return libras / 50  # lógica general\n",
        "\n",
        "# Fardo <-> Unidad\n",
        "def fardo_a_unidad(fardos):\n",
        "    return fardos * 5\n",
        "\n",
        "def unidad_a_fardo(unidades):\n",
        "    if unidades == 28:\n",
        "        return unidades * (5/3)\n",
        "    else:\n",
        "        return unidades / 5  # lógica general\n",
        "\n",
        "# Programa principal\n",
        "while True:\n",
        "    mostrar_menu()\n",
        "    opcion = input(\"Selecciona una opción (1-4): \")\n",
        "\n",
        "    if opcion == '1':\n",
        "        tipo = input(\"¿Convertir 'caja' a 'unidad' o viceversa? (c/u): \").lower()\n",
        "        if tipo == 'c':\n",
        "            valor = float(input(\"Ingrese cantidad de cajas: \"))\n",
        "            print(f\"{valor} caja(s) = {caja_a_unidad(valor)} unidad(es)\\n\")\n",
        "        else:\n",
        "            valor = float(input(\"Ingrese cantidad de unidades: \"))\n",
        "            print(f\"{valor} unidad(es) = {unidad_a_caja(valor)} caja(s)\\n\")\n",
        "\n",
        "    elif opcion == '2':\n",
        "        tipo = input(\"¿Convertir 'saco' a 'libra' o viceversa? (s/l): \").lower()\n",
        "        if tipo == 's':\n",
        "            valor = float(input(\"Ingrese cantidad de sacos: \"))\n",
        "            print(f\"{valor} saco(s) = {saco_a_libra(valor)} libra(s)\\n\")\n",
        "        else:\n",
        "            valor = float(input(\"Ingrese cantidad de libras: \"))\n",
        "            print(f\"{valor} libra(s) = {libra_a_saco(valor)} saco(s)\\n\")\n",
        "\n",
        "    elif opcion == '3':\n",
        "        tipo = input(\"¿Convertir 'fardo' a 'unidad' o viceversa? (f/u): \").lower()\n",
        "        if tipo == 'f':\n",
        "            valor = float(input(\"Ingrese cantidad de fardos: \"))\n",
        "            print(f\"{valor} fardo(s) = {fardo_a_unidad(valor)} unidad(es)\\n\")\n",
        "        else:\n",
        "            valor = float(input(\"Ingrese cantidad de unidades: \"))\n",
        "            print(f\"{valor} unidad(es) = {unidad_a_fardo(valor)} fardo(s)\\n\")\n",
        "\n",
        "    elif opcion == '4':\n",
        "        print(\"¡Hasta luego!\")\n",
        "        break\n",
        "\n",
        "    else:\n",
        "        print(\"Opción inválida. Intenta de nuevo.\\n\")\n"
      ],
      "metadata": {
        "id": "oeJ_h8x3Ei5T",
        "colab": {
          "base_uri": "https://localhost:8080/"
        },
        "outputId": "a3fdc546-b4bb-4878-a2df-74ca942f2fed"
      },
      "execution_count": null,
      "outputs": [
        {
          "output_type": "stream",
          "name": "stdout",
          "text": [
            "Conversor personalizado:\n",
            "1. Caja <-> Unidad \n",
            "2. Saco <-> Libra \n",
            "3. Fardo <-> Unidad \n",
            "4. Salir\n",
            "Selecciona una opción (1-4): 1\n",
            "¿Convertir 'caja' a 'unidad' o viceversa? (c/u): c\n",
            "Ingrese cantidad de cajas: 3\n",
            "3.0 caja(s) = 75.0 unidad(es)\n",
            "\n",
            "Conversor personalizado:\n",
            "1. Caja <-> Unidad \n",
            "2. Saco <-> Libra \n",
            "3. Fardo <-> Unidad \n",
            "4. Salir\n",
            "Selecciona una opción (1-4): 1\n",
            "¿Convertir 'caja' a 'unidad' o viceversa? (c/u): u\n",
            "Ingrese cantidad de unidades: 80\n",
            "80.0 unidad(es) = 133.33333333333334 caja(s)\n",
            "\n",
            "Conversor personalizado:\n",
            "1. Caja <-> Unidad \n",
            "2. Saco <-> Libra \n",
            "3. Fardo <-> Unidad \n",
            "4. Salir\n"
          ]
        }
      ]
    },
    {
      "cell_type": "markdown",
      "source": [
        "Codigo los meses acumulados"
      ],
      "metadata": {
        "id": "LZd3tj1ih-wP"
      }
    },
    {
      "cell_type": "code",
      "source": [
        "def acumulado_mes(n):\n",
        "    # Fórmula de números triangulares\n",
        "    return n * (n + 1) // 2\n",
        "\n",
        "# Mostrar tabla hasta n meses\n",
        "def tabla_acumulados(n):\n",
        "    print(f\"{'MES':<5}{'ACUMULACION'}\")\n",
        "    for mes in range(1, n + 1):\n",
        "        acum = acumulado_mes(mes)\n",
        "        print(f\"{mes:<5}{acum}\")\n",
        "\n",
        "# Ejemplo: hasta el mes 10\n",
        "tabla_acumulados(9)"
      ],
      "metadata": {
        "id": "rHzkboAEgYBO",
        "colab": {
          "base_uri": "https://localhost:8080/"
        },
        "outputId": "e526319d-2a1c-4e90-cb3c-2a981d7a2691"
      },
      "execution_count": null,
      "outputs": [
        {
          "output_type": "stream",
          "name": "stdout",
          "text": [
            "MES  ACUMULACION\n",
            "1    1\n",
            "2    3\n",
            "3    6\n",
            "4    10\n",
            "5    15\n",
            "6    21\n",
            "7    28\n",
            "8    36\n",
            "9    45\n"
          ]
        }
      ]
    },
    {
      "cell_type": "code",
      "source": [
        "def calcular_pago(consumo):\n",
        "    if consumo <= 18:\n",
        "        return 6  # cuota fija\n",
        "    elif consumo <= 28:\n",
        "        exceso = consumo - 18\n",
        "        return 6 + exceso * 0.45\n",
        "    else:\n",
        "        exceso_19_28 = 10 * 0.45  # siempre 10 m³ entre 19 y 28\n",
        "        exceso_29_en_adelante = (consumo - 28) * 0.65\n",
        "        return 6 + exceso_19_28 + exceso_29_en_adelante\n",
        "\n",
        "\n",
        "# Programa principal\n",
        "try:\n",
        "    consumo = int(input(\"Ingrese el consumo de agua en m³: \"))\n",
        "    pago = calcular_pago(consumo)\n",
        "    print(f\"El total a pagar por {consumo} m³ de agua es: ${pago:.2f}\")\n",
        "except ValueError:\n",
        "    print(\"Por favor ingrese un número válido.\")"
      ],
      "metadata": {
        "colab": {
          "base_uri": "https://localhost:8080/"
        },
        "id": "ni0jwvxiZQYP",
        "outputId": "692037d2-a929-49d5-e6af-b8cc8f98f716"
      },
      "execution_count": null,
      "outputs": [
        {
          "output_type": "stream",
          "name": "stdout",
          "text": [
            "Ingrese el consumo de agua en m³: 38\n",
            "El total a pagar por 38 m³ de agua es: $17.00\n"
          ]
        }
      ]
    },
    {
      "cell_type": "markdown",
      "source": [
        "Conversor de unidades"
      ],
      "metadata": {
        "id": "Xi6iwFeIuDsg"
      }
    },
    {
      "cell_type": "code",
      "source": [
        "def menu():\n",
        "    print(\"\\n=== Conversores ===\")\n",
        "    print(\"1. Monedas\")\n",
        "    print(\"2. Longitud\")\n",
        "    print(\"3. Masa\")\n",
        "    print(\"4. Almacenamiento\")\n",
        "    print(\"5. Tiempo\")\n",
        "    print(\"6. Volumen\")\n",
        "    print(\"7. Área\")\n",
        "    print(\"8. Salir\")\n",
        "\n",
        "\n",
        "# ==============================\n",
        "# CONVERSOR GENERAL (origen → destino)\n",
        "# ==============================\n",
        "def convertir(unidades, nombre):\n",
        "    print(f\"\\n--- Conversor de {nombre} ---\")\n",
        "    # Mostrar unidades disponibles\n",
        "    for i, u in enumerate(unidades.keys(), start=1):\n",
        "        print(f\"{i}. {u}\")\n",
        "\n",
        "    #  origen y destino\n",
        "    origen = int(input(\"\\nSeleccione la unidad de ORIGEN: \"))\n",
        "    destino = int(input(\"Seleccione la unidad de DESTINO: \"))\n",
        "    cantidad = float(input(\"Ingrese cantidad: \"))\n",
        "\n",
        "    claves = list(unidades.keys())\n",
        "    if 1 <= origen <= len(claves) and 1 <= destino <= len(claves):\n",
        "        u_origen = claves[origen - 1]\n",
        "        u_destino = claves[destino - 1]\n",
        "\n",
        "        # conversión relativa a la unidad base (la primera en el diccionario)\n",
        "        base = list(unidades.values())[0]\n",
        "        valor_base = cantidad * (unidades[u_origen] / base)\n",
        "        convertido = valor_base / (unidades[u_destino] / base)\n",
        "\n",
        "        print(f\"\\n{cantidad} {u_origen} = {convertido:.4f} {u_destino}\")\n",
        "    else:\n",
        "        print(\"Opción inválida\")\n",
        "\n",
        "\n",
        "# ==============================\n",
        "# CONVERSORES ESPECÍFICOS\n",
        "# ==============================\n",
        "def monedas():\n",
        "    unidades = {\n",
        "        \"Dólares\": 1.0,\n",
        "        \"Euros\": 0.92,\n",
        "        \"Libras\": 0.78,\n",
        "        \"Pesos Mexicanos\": 16.7,\n",
        "        \"Yenes\": 146.0,\n",
        "        \"Colones (SV)\": 8.75\n",
        "    }\n",
        "    convertir(unidades, \"Monedas\")\n",
        "\n",
        "\n",
        "def longitud():\n",
        "    unidades = {\n",
        "        \"Metros\": 1.0,\n",
        "        \"Kilómetros\": 1000.0,\n",
        "        \"Centímetros\": 0.01,\n",
        "        \"Milímetros\": 0.001,\n",
        "        \"Pies\": 0.3048,\n",
        "        \"Pulgadas\": 0.0254\n",
        "    }\n",
        "    convertir(unidades, \"Longitud\")\n",
        "\n",
        "\n",
        "def masa():\n",
        "    unidades = {\n",
        "        \"Kilogramos\": 1.0,\n",
        "        \"Gramos\": 0.001,\n",
        "        \"Libras\": 0.453592,\n",
        "        \"Onzas\": 0.0283495,\n",
        "        \"Toneladas\": 1000.0\n",
        "    }\n",
        "    convertir(unidades, \"Masa\")\n",
        "\n",
        "\n",
        "def almacenamiento():\n",
        "    unidades = {\n",
        "        \"Bytes\": 1.0,\n",
        "        \"Kilobytes\": 1024.0,\n",
        "        \"Megabytes\": 1024.0**2,\n",
        "        \"Gigabytes\": 1024.0**3,\n",
        "        \"Terabytes\": 1024.0**4,\n",
        "        \"Bits\": 1.0 / 8\n",
        "    }\n",
        "    convertir(unidades, \"Almacenamiento\")\n",
        "\n",
        "\n",
        "def tiempo():\n",
        "    unidades = {\n",
        "        \"Segundos\": 1.0,\n",
        "        \"Minutos\": 60.0,\n",
        "        \"Horas\": 3600.0,\n",
        "        \"Días\": 86400.0,\n",
        "        \"Semanas\": 604800.0,\n",
        "        \"Meses (30d)\": 2592000.0,\n",
        "        \"Años (365d)\": 31536000.0\n",
        "    }\n",
        "    convertir(unidades, \"Tiempo\")\n",
        "\n",
        "\n",
        "def volumen():\n",
        "    unidades = {\n",
        "        \"Litros\": 1.0,\n",
        "        \"Mililitros\": 0.001,\n",
        "        \"Metros cúbicos\": 1000.0,\n",
        "        \"Galones\": 3.785,\n",
        "        \"Pulgadas cúbicas\": 0.016387,\n",
        "        \"Barriles\": 159.0\n",
        "    }\n",
        "    convertir(unidades, \"Volumen\")\n",
        "\n",
        "\n",
        "def area():\n",
        "    unidades = {\n",
        "        \"Metros²\": 1.0,\n",
        "        \"Centímetros²\": 0.0001,\n",
        "        \"Kilómetros²\": 1e6,\n",
        "        \"Hectáreas\": 10000.0,\n",
        "        \"Pies²\": 0.092903,\n",
        "        \"Acres\": 4046.86,\n",
        "        \"Tareas (SV)\": 628.86,\n",
        "        \"Manzanas (SV)\": 6987.4\n",
        "    }\n",
        "    convertir(unidades, \"Área\")\n",
        "\n",
        "\n",
        "# ==============================\n",
        "# PROGRAMA PRINCIPAL\n",
        "# ==============================\n",
        "while True:\n",
        "    menu()\n",
        "    opcion = int(input(\"Elija una opción: \"))\n",
        "\n",
        "    if opcion == 1: monedas()\n",
        "    elif opcion == 2: longitud()\n",
        "    elif opcion == 3: masa()\n",
        "    elif opcion == 4: almacenamiento()\n",
        "    elif opcion == 5: tiempo()\n",
        "    elif opcion == 6: volumen()\n",
        "    elif opcion == 7: area()\n",
        "    elif opcion == 8:\n",
        "        print(\"Saliendo del programa...\")\n",
        "        break\n",
        "    else:\n",
        "        print(\"Opción inválida\")"
      ],
      "metadata": {
        "id": "YirWQxqTuG6Y"
      },
      "execution_count": null,
      "outputs": []
    },
    {
      "cell_type": "code",
      "source": [
        "#Determinar si un numero introducido por el usuario es primo\n",
        "num = int(input(\"Num: \"))\n",
        "\n",
        "acum = 0\n",
        "i = 1\n",
        "while i <= num and acum <= 2:\n",
        "    if (num % i == 0):\n",
        "        acum += 1\n",
        "    i += 1\n",
        "\n",
        "if acum <= 2:\n",
        "    print(\"El numero \", num, \" ES primo\")\n",
        "else:\n",
        "    print(\"El numero \", num, \" NO es primo\")"
      ],
      "metadata": {
        "id": "mO-ZSa7sXqgK"
      },
      "execution_count": null,
      "outputs": []
    },
    {
      "cell_type": "code",
      "source": [
        "# Generar la tabla de multiplicar de un número\n",
        "continuar = \"s\"\n",
        "\n",
        "while continuar.lower() == \"s\":\n",
        "    ntab = int(input(\"Tabla: \"))\n",
        "    for i in range(1, 11):\n",
        "        print(ntab, \"x\", i, \"=\", ntab * i)\n",
        "\n",
        "    continuar = input(\"¿Continuar? s/n: \")\n",
        "\n",
        "print(\"Programa finalizado.\")"
      ],
      "metadata": {
        "id": "ihllSkHQYfkH"
      },
      "execution_count": null,
      "outputs": []
    },
    {
      "cell_type": "markdown",
      "source": [
        "Programacion orientada a objetos\n",
        "\n",
        "●clases"
      ],
      "metadata": {
        "id": "BfcNSXt1fucN"
      }
    },
    {
      "cell_type": "code",
      "source": [
        "class calculadora:\n",
        "    def sumar(num1, num2):\n",
        "        return num1 + num2"
      ],
      "metadata": {
        "id": "xZyoNLG-f4A7"
      },
      "execution_count": null,
      "outputs": []
    },
    {
      "cell_type": "code",
      "source": [
        "objCalculadora = calculadora()\n",
        "\n",
        "objCalculadora = calculadora()  # creamos el objeto apartir de la clase\n",
        "num1 = float(input(\"Num1: \"))\n",
        "num2 = float(input(\"Num2: \"))\n",
        "print(num1, \"+\", num2, \"=\", calculadora.sumar(num1, num2))"
      ],
      "metadata": {
        "colab": {
          "base_uri": "https://localhost:8080/"
        },
        "id": "tnvQodWEgONv",
        "outputId": "0ad22749-2327-42dd-f60b-ed602f42a603"
      },
      "execution_count": null,
      "outputs": [
        {
          "output_type": "stream",
          "name": "stdout",
          "text": [
            "Num1: 9\n",
            "Num2: 0\n",
            "9.0 + 0.0 = 9.0\n"
          ]
        }
      ]
    },
    {
      "cell_type": "code",
      "source": [
        "#Hecer un programa que lea una serie de numero introeudcidos por el usuario y determine la media aritmetica.\n",
        "from math import sqrt\n",
        "class estadistica:\n",
        "    def media(self, serie):\n",
        "        suma = 0\n",
        "        for num in serie:\n",
        "            suma += int(num)\n",
        "        return suma/len(serie)\n",
        "\n",
        "    def tipica(self, serie):\n",
        "        media = self.media(serie)\n",
        "        suma = 0\n",
        "        for num in serie:\n",
        "            suma += (int(num)-media)**2\n",
        "        return sqrt( suma/len(serie) )"
      ],
      "metadata": {
        "id": "EyOZM1nWjDPY"
      },
      "execution_count": null,
      "outputs": []
    },
    {
      "cell_type": "code",
      "source": [
        "serie = input(\"Serie ejem: 1,5,2,3: \").split(\",\")\n",
        "objEstadistica = estadistica()\n",
        "print(\"La media es: \", objEstadistica.media(serie), \"la desviacion tipica es: \", round(objEstadistica.tipica(serie), 2) )"
      ],
      "metadata": {
        "colab": {
          "base_uri": "https://localhost:8080/"
        },
        "id": "nIjJ1oVajDkg",
        "outputId": "15e6ede3-a1f4-4737-d233-5c4571f9100d"
      },
      "execution_count": null,
      "outputs": [
        {
          "output_type": "stream",
          "name": "stdout",
          "text": [
            "Serie ejem: 1,5,2,3: 1,2,3,4,5\n",
            "La media es:  3.0 la desviacion tipica es:  1.41\n"
          ]
        }
      ]
    },
    {
      "cell_type": "markdown",
      "source": [
        "TAREA 25/08/25\n",
        "\n",
        "Encontrar la variansa en una"
      ],
      "metadata": {
        "id": "TNOLUogflJUK"
      }
    }
  ]
}