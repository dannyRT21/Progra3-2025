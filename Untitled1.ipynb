{
  "nbformat": 4,
  "nbformat_minor": 0,
  "metadata": {
    "colab": {
      "provenance": [],
      "authorship_tag": "ABX9TyMwLXHAxUZwBSJzpYwI4npW",
      "include_colab_link": true
    },
    "kernelspec": {
      "name": "python3",
      "display_name": "Python 3"
    },
    "language_info": {
      "name": "python"
    }
  },
  "cells": [
    {
      "cell_type": "markdown",
      "metadata": {
        "id": "view-in-github",
        "colab_type": "text"
      },
      "source": [
        "<a href=\"https://colab.research.google.com/github/dannyRT21/Progra3-2025/blob/main/Untitled1.ipynb\" target=\"_parent\"><img src=\"https://colab.research.google.com/assets/colab-badge.svg\" alt=\"Open In Colab\"/></a>"
      ]
    },
    {
      "cell_type": "code",
      "execution_count": null,
      "metadata": {
        "id": "myZi34M_eRu4"
      },
      "outputs": [],
      "source": [
        "nombre = \"Luis\"\n",
        "edad = \"32\"\n",
        "\n",
        "Print(nombre,edad)\n",
        "\n",
        "eDad = \"cinco\"\n",
        "Print(\"tu edad: \", eDad)\n"
      ]
    },
    {
      "cell_type": "code",
      "source": [
        "num1 = 5.3\n",
        "num2 = 5.7\n",
        "suma = num1 + num2\n",
        "print(\"la suma es: suma: \", suma)"
      ],
      "metadata": {
        "colab": {
          "base_uri": "https://localhost:8080/"
        },
        "id": "-cA7XcB3ez36",
        "outputId": "ebe21562-9a3a-4732-f0eb-9a3cf8a032bd"
      },
      "execution_count": null,
      "outputs": [
        {
          "output_type": "stream",
          "name": "stdout",
          "text": [
            "la suma es: suma:  11.0\n"
          ]
        }
      ]
    },
    {
      "cell_type": "code",
      "source": [
        "num1 = float(input(\"Num1: \"))\n",
        "num2 = float(input(\"Num2: \"))\n",
        "suma = num1 + num2\n",
        "print(\"la suma es: suma: \", suma)"
      ],
      "metadata": {
        "id": "8niN0v5yffYk"
      },
      "execution_count": null,
      "outputs": []
    },
    {
      "cell_type": "code",
      "source": [
        "num1 = float(input(\"Num1: \"))\n",
        "num2 = float(input(\"Num2: \"))\n",
        "resta = num1 - num2\n",
        "\n",
        "\n",
        "print(\"la resta es \", resta)\n",
        "\n",
        "\n"
      ],
      "metadata": {
        "colab": {
          "base_uri": "https://localhost:8080/"
        },
        "id": "J7QK7D31hzhk",
        "outputId": "5bc9b9d9-b338-418c-e88a-bf8dc72b9e15"
      },
      "execution_count": null,
      "outputs": [
        {
          "output_type": "stream",
          "name": "stdout",
          "text": [
            "Num1: 2\n",
            "Num2: 5\n",
            "la resta es  -3.0\n"
          ]
        }
      ]
    },
    {
      "cell_type": "markdown",
      "source": [
        "TIPO DE DATOS EN PYTHON"
      ],
      "metadata": {
        "id": "aql2GXCtMydW"
      }
    },
    {
      "cell_type": "code",
      "source": [
        "#entero\n",
        "num1 = 6\n",
        "print(num1, \"Esto es un entere\")"
      ],
      "metadata": {
        "colab": {
          "base_uri": "https://localhost:8080/"
        },
        "id": "C3NlvG0DM2uL",
        "outputId": "481e0df2-ae79-4c13-ef68-f4f170a0d1fa"
      },
      "execution_count": null,
      "outputs": [
        {
          "output_type": "stream",
          "name": "stdout",
          "text": [
            "6 Esto es un entere\n"
          ]
        }
      ]
    },
    {
      "cell_type": "code",
      "source": [
        "#hacer un ejercicio en Python haciendo uso de funciones, que reste dps numeros introducidos por el usuario\n"
      ],
      "metadata": {
        "id": "2f-RsHLOVfXT"
      },
      "execution_count": null,
      "outputs": []
    },
    {
      "cell_type": "code",
      "source": [
        "#hacer un ejercicio en Python haciendo uso de funciones de usuario, que convierta hrados celcios a farenteheit\n",
        "\n",
        "def celciusFarenheit(c):\n",
        " return c*1.8 + 32\n",
        " c = int(input(\"Grados c:\"))\n",
        "f = celciusFarenheit(c)\n",
        "print(\"F\", f )"
      ],
      "metadata": {
        "id": "b7Ft3ybUVz_D"
      },
      "execution_count": null,
      "outputs": []
    },
    {
      "cell_type": "code",
      "source": [
        "#Hacer un ejercicio de python haciendo uso de funciones de usuario, que convierta grados farenheit a celsius.\n",
        "def farenteheitCelcius(f):\n",
        "    return (f-32)*5/9\n",
        "\n",
        "c = float(input(\"farenheit G: \"))\n",
        "f =farenteheitCelcius(c)\n",
        "print(\"Grados:\", f )"
      ],
      "metadata": {
        "colab": {
          "base_uri": "https://localhost:8080/"
        },
        "id": "qajXeBkNaTW1",
        "outputId": "9d6271a7-fa8a-4cb0-95f7-35c5f0c414fd"
      },
      "execution_count": null,
      "outputs": [
        {
          "output_type": "stream",
          "name": "stdout",
          "text": [
            "farenheit G: 100.4\n",
            "Grados: 38.0\n"
          ]
        }
      ]
    },
    {
      "cell_type": "code",
      "source": [
        "#Hacer un ejercicio de python haciendo uso de funciones de usuario, que convierta grados celcius a Kelvin\n",
        "\n",
        "def celciusKelvin(f):\n",
        "    return (f + 273.15)\n",
        "\n",
        "c = float(input(\"celcius G: \"))\n",
        "f =celciusKelvin(c)\n",
        "print(\" Estamos a:\", f , \"grados\" )"
      ],
      "metadata": {
        "colab": {
          "base_uri": "https://localhost:8080/"
        },
        "id": "L-IV2EE0ctOp",
        "outputId": "4e690c0f-fdf0-48a7-9b96-e025929a25f1"
      },
      "execution_count": null,
      "outputs": [
        {
          "output_type": "stream",
          "name": "stdout",
          "text": [
            "celcius G: 58\n",
            " Estamos a: 331.15 grados\n"
          ]
        }
      ]
    },
    {
      "cell_type": "code",
      "source": [
        "#Hacer un ejercicio de python haciendo uso de funciones de usuario, que calcule\n",
        "#el sueldo de un empleado segun el numero de horas trabajadas y valor por hora\n",
        "\n",
        "def sueldo(numHrs , valorMax):\n",
        "  sueldo = numHrs * valorMax * 30\n",
        "  return sueldo"
      ],
      "metadata": {
        "id": "7p3GBpgmhczK"
      },
      "execution_count": null,
      "outputs": []
    },
    {
      "cell_type": "code",
      "source": [
        "  numHrs = float(input(\"horas:\"))\n",
        "  valorMax = float(input(\"valor Xhrs:\"))\n",
        "  sueldo = sueldo(numHrs , valorMax)\n",
        "  print(\"sueldo: \", sueldo)"
      ],
      "metadata": {
        "id": "dIHxHe0QimX_"
      },
      "execution_count": null,
      "outputs": []
    },
    {
      "cell_type": "code",
      "source": [
        "#Hacer un ejercicio de python haciendo uso de funciones de usuario, que permita elevar un numerp a un exponente\n",
        "  def exponete(b,e):\n",
        "    return b**e\n",
        "\n",
        "    b = float(input(\"base: \"))\n",
        "    e = float(input(\"Exponete: \"))\n",
        "\n",
        "    resultado = exponete(b,e)\n",
        "    print(\"el numero \", b, \"elevado a \",e, \", el resultado es : \", resultado )"
      ],
      "metadata": {
        "id": "Ti5y23-5j5TI"
      },
      "execution_count": null,
      "outputs": []
    },
    {
      "cell_type": "markdown",
      "source": [
        "***11/08/2025***\n",
        "\n",
        "FUNCIONES ANONIMAS"
      ],
      "metadata": {
        "id": "JGgKCdetntp1"
      }
    },
    {
      "cell_type": "code",
      "source": [
        "def suma(a, b):\n",
        "    return a + b\n",
        "\n",
        "a = float(input(\"Num1: \"))\n",
        "b = float(input(\"Num2: \"))\n",
        "\n",
        "suma = suma(a, b)\n",
        "\n",
        "print(\"La suma es:\", suma)"
      ],
      "metadata": {
        "id": "1tTdkYpzo-IN"
      },
      "execution_count": null,
      "outputs": []
    },
    {
      "cell_type": "code",
      "source": [
        "a = float(input(\"Num1: \"))\n",
        "b = float(input(\"Num2: \"))\n",
        "\n",
        "sum = lambda a,b: a+b\n",
        "print(\"La suma de:\", a, \"mas b:\", b, \"es igual \", sum(a,b) )"
      ],
      "metadata": {
        "id": "Zz2qmTGyqHvn",
        "colab": {
          "base_uri": "https://localhost:8080/"
        },
        "outputId": "dfcbc696-f8f6-4c79-8b63-6d87f8308336"
      },
      "execution_count": 12,
      "outputs": [
        {
          "output_type": "stream",
          "name": "stdout",
          "text": [
            "Num1: 5\n",
            "Num2: 5\n",
            "La suma de: 5.0 mas b: 5.0 es igual  10.0\n"
          ]
        }
      ]
    },
    {
      "cell_type": "markdown",
      "source": [
        "**FUNCIONES PRECONSTRUIDAS**"
      ],
      "metadata": {
        "id": "caoP5iURsBxS"
      }
    },
    {
      "cell_type": "code",
      "source": [
        "#map\n",
        "semana = [\"Domingo\", \"Lunes\", \"Martes\", \"Miercoles\", \"Jueves\", \"Viernes\", \"Sabado\"]\n",
        "\n",
        "primerValorSemana = map(lambda dia: dia[0], semana)\n",
        "print(list(primerValorSemana))\n",
        "\n",
        "mayusSemana = map(lambda dia: dia.upper(), semana)\n",
        "print(list(mayusSemana))"
      ],
      "metadata": {
        "colab": {
          "base_uri": "https://localhost:8080/"
        },
        "id": "bCrSSZfKsEWb",
        "outputId": "4e7a0782-031a-4fad-d359-35e33c23dabb"
      },
      "execution_count": 13,
      "outputs": [
        {
          "output_type": "stream",
          "name": "stdout",
          "text": [
            "['D', 'L', 'M', 'M', 'J', 'V', 'S']\n",
            "['DOMINGO', 'LUNES', 'MARTES', 'MIERCOLES', 'JUEVES', 'VIERNES', 'SABADO']\n"
          ]
        }
      ]
    },
    {
      "cell_type": "code",
      "source": [
        "numeros = [2, 4, 6, 8, 7, 9]\n",
        "potencia = int(input(\"Potencia: \"))\n",
        "numeroPotencia = map(lambda num: num**potencia, numeros)\n",
        "\n",
        "print(list(numeroPotencia))"
      ],
      "metadata": {
        "colab": {
          "base_uri": "https://localhost:8080/"
        },
        "id": "am2ZmN-AuLGE",
        "outputId": "7e839839-828e-4420-accf-88d46905a286"
      },
      "execution_count": 14,
      "outputs": [
        {
          "output_type": "stream",
          "name": "stdout",
          "text": [
            "Potencia: 2\n",
            "[4, 16, 36, 64, 49, 81]\n"
          ]
        }
      ]
    },
    {
      "cell_type": "code",
      "source": [
        "ntabla = int(input(\"Tabla:\"))\n",
        "numeros = [1, 2, 3, 4, 5, 6, 7, 8, 9, 10]\n",
        "tabla = map(lambda num: num * ntabla, numeros)\n",
        "\n",
        "print(list(tabla))"
      ],
      "metadata": {
        "colab": {
          "base_uri": "https://localhost:8080/"
        },
        "id": "1tKIz7EruPRS",
        "outputId": "9c3bc719-c2ed-4574-8fbe-02b8981180af"
      },
      "execution_count": 15,
      "outputs": [
        {
          "output_type": "stream",
          "name": "stdout",
          "text": [
            "Tabla:8\n",
            "[8, 16, 24, 32, 40, 48, 56, 64, 72, 80]\n"
          ]
        }
      ]
    },
    {
      "cell_type": "markdown",
      "source": [
        "**FUNCION DE FILTER**"
      ],
      "metadata": {
        "id": "r8-cB4hSvLnG"
      }
    },
    {
      "cell_type": "code",
      "source": [
        "serie = [5, 6, 9, 2, 7, 8]\n",
        "pares = filter(lambda num: num % 2 == 0, serie)  # % --> a modulo, obtener el residuo.\n",
        "\n",
        "print(list(pares))\n",
        "\n",
        "impares = filter(lambda num: num % 2 != 0, serie)\n",
        "\n",
        "print(list(impares))"
      ],
      "metadata": {
        "colab": {
          "base_uri": "https://localhost:8080/"
        },
        "id": "bOux0cEKvx38",
        "outputId": "01628dda-1166-41b3-8656-ffb6c34c6c96"
      },
      "execution_count": 1,
      "outputs": [
        {
          "output_type": "stream",
          "name": "stdout",
          "text": [
            "[6, 2, 8]\n",
            "[5, 9, 7]\n"
          ]
        }
      ]
    },
    {
      "cell_type": "code",
      "source": [
        "serieUser = input(\"Serie: \") # 5,2,8,1 --> serie[0]=\"5\", serie[1]=\"2\", etc..\n",
        "serieUser = serieUser.split(\",\")\n",
        "\n",
        "pares = filter(lambda num: int(num) % 2 == 0, serieUser)\n",
        "impares = filter(lambda num: int(num) % 2 != 0, serieUser)\n",
        "\n",
        "print(\"Pares:\", list(pares))\n",
        "print(\"Impares:\", list(impares))"
      ],
      "metadata": {
        "colab": {
          "base_uri": "https://localhost:8080/"
        },
        "id": "9Ux-fNvHM8Dt",
        "outputId": "8db7b4fe-8d20-4b7b-981e-e0d6d9b79211"
      },
      "execution_count": 3,
      "outputs": [
        {
          "output_type": "stream",
          "name": "stdout",
          "text": [
            "Serie: 1,2,3,4,5,6,7,8,9\n",
            "Pares: ['2', '4', '6', '8']\n",
            "Impares: ['1', '3', '5', '7', '9']\n"
          ]
        }
      ]
    },
    {
      "cell_type": "markdown",
      "source": [
        "Hacer un ejercicio en python usando la funcion filter y lambda que de una seria de notas introducidas por el usuario, establezca cuantos pasan la materia (>6) y cuantos se quedan (<6)."
      ],
      "metadata": {
        "id": "Ym2j2fWzO_g-"
      }
    },
    {
      "cell_type": "code",
      "source": [
        "notas_str = input(\"Ingresa las notas separadas por comas (e.g., 7.5, 8.0, 5.0, 6.5): \")\n",
        "notas = [float(nota) for nota in notas_str.split(',')]\n",
        "\n",
        "pasan = list(filter(lambda nota: nota > 6, notas))\n",
        "se_quedan = list(filter(lambda nota: nota <= 6, notas))\n",
        "\n",
        "print(\"Cantidad de estudiantes que pasan:\", len(pasan))\n",
        "print(\"Notas de los que pasan:\", pasan)\n",
        "\n",
        "print(\"Cantidad de estudiantes que se quedan:\", len(se_quedan))\n",
        "print(\"Notas de los que se quedan:\", se_quedan)"
      ],
      "metadata": {
        "colab": {
          "base_uri": "https://localhost:8080/"
        },
        "id": "fGA5LtqDPLg6",
        "outputId": "5a6d1bea-0e03-4f32-be77-552f791de9dd"
      },
      "execution_count": 4,
      "outputs": [
        {
          "output_type": "stream",
          "name": "stdout",
          "text": [
            "Ingresa las notas separadas por comas (e.g., 7.5, 8.0, 5.0, 6.5): 9.5,8.3,9.7,6.3,2.1,0.0,1.0\n",
            "Cantidad de estudiantes que pasan: 4\n",
            "Notas de los que pasan: [9.5, 8.3, 9.7, 6.3]\n",
            "Cantidad de estudiantes que se quedan: 3\n",
            "Notas de los que se quedan: [2.1, 0.0, 1.0]\n"
          ]
        }
      ]
    },
    {
      "cell_type": "markdown",
      "source": [
        "**EJERCICIOS UTILIZANDO REDUCE**"
      ],
      "metadata": {
        "id": "k8sXWIJvQ4VE"
      }
    },
    {
      "cell_type": "code",
      "source": [
        "#reduce\n",
        "from functools import reduce\n",
        "\n",
        "numeros = [5, 4, 9, 6,15,1]\n",
        "suma = reduce(lambda num, sum: num + sum, numeros)\n",
        "\n",
        "print(\"La suma es:\", suma)"
      ],
      "metadata": {
        "id": "6SlpqZ53Q8aW"
      },
      "execution_count": null,
      "outputs": []
    },
    {
      "cell_type": "markdown",
      "source": [],
      "metadata": {
        "id": "kNJwBXiARpCk"
      }
    },
    {
      "cell_type": "code",
      "source": [
        "#reduce\n",
        "from functools import reduce\n",
        "\n",
        "numeros = [5, 4, 9, 6, 8, 2, 3,1]\n",
        "\n",
        "suma = reduce(lambda num, acum: num + acum, numeros)\n",
        "\n",
        "sumaPares = reduce(lambda num, acum: num + acum, filter(lambda num: num % 2 == 0, numeros))\n"
      ],
      "metadata": {
        "id": "59gH6MVmRca8"
      },
      "execution_count": 15,
      "outputs": []
    }
  ]
}