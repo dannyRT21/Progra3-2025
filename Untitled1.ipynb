{
  "nbformat": 4,
  "nbformat_minor": 0,
  "metadata": {
    "colab": {
      "provenance": [],
      "authorship_tag": "ABX9TyMqilBNCvUcdkmEvYOjwofp",
      "include_colab_link": true
    },
    "kernelspec": {
      "name": "python3",
      "display_name": "Python 3"
    },
    "language_info": {
      "name": "python"
    }
  },
  "cells": [
    {
      "cell_type": "markdown",
      "metadata": {
        "id": "view-in-github",
        "colab_type": "text"
      },
      "source": [
        "<a href=\"https://colab.research.google.com/github/dannyRT21/Progra3-2025/blob/main/Untitled1.ipynb\" target=\"_parent\"><img src=\"https://colab.research.google.com/assets/colab-badge.svg\" alt=\"Open In Colab\"/></a>"
      ]
    },
    {
      "cell_type": "code",
      "execution_count": null,
      "metadata": {
        "id": "myZi34M_eRu4"
      },
      "outputs": [],
      "source": [
        "nombre = \"Luis\"\n",
        "edad = \"32\"\n",
        "\n",
        "Print(nombre,edad)\n",
        "\n",
        "eDad = \"cinco\"\n",
        "Print(\"tu edad: \", eDad)\n"
      ]
    },
    {
      "cell_type": "code",
      "source": [
        "num1 = 5.3\n",
        "num2 = 5.7\n",
        "suma = num1 + num2\n",
        "print(\"la suma es: suma: \", suma)"
      ],
      "metadata": {
        "colab": {
          "base_uri": "https://localhost:8080/"
        },
        "id": "-cA7XcB3ez36",
        "outputId": "ebe21562-9a3a-4732-f0eb-9a3cf8a032bd"
      },
      "execution_count": null,
      "outputs": [
        {
          "output_type": "stream",
          "name": "stdout",
          "text": [
            "la suma es: suma:  11.0\n"
          ]
        }
      ]
    },
    {
      "cell_type": "code",
      "source": [
        "num1 = float(input(\"Num1: \"))\n",
        "num2 = float(input(\"Num2: \"))\n",
        "suma = num1 + num2\n",
        "print(\"la suma es: suma: \", suma)"
      ],
      "metadata": {
        "id": "8niN0v5yffYk"
      },
      "execution_count": null,
      "outputs": []
    },
    {
      "cell_type": "code",
      "source": [
        "num1 = float(input(\"Num1: \"))\n",
        "num2 = float(input(\"Num2: \"))\n",
        "resta = num1 - num2\n",
        "print(\"la resta es \", resta)\n",
        "\n",
        "\n"
      ],
      "metadata": {
        "colab": {
          "base_uri": "https://localhost:8080/"
        },
        "id": "J7QK7D31hzhk",
        "outputId": "5bc9b9d9-b338-418c-e88a-bf8dc72b9e15"
      },
      "execution_count": null,
      "outputs": [
        {
          "output_type": "stream",
          "name": "stdout",
          "text": [
            "Num1: 2\n",
            "Num2: 5\n",
            "la resta es  -3.0\n"
          ]
        }
      ]
    },
    {
      "cell_type": "markdown",
      "source": [
        "TIPO DE DATOS EN PYTHON"
      ],
      "metadata": {
        "id": "aql2GXCtMydW"
      }
    },
    {
      "cell_type": "code",
      "source": [
        "#entero\n",
        "num1 = 6\n",
        "print(num1, \"Esto es un entere\")"
      ],
      "metadata": {
        "colab": {
          "base_uri": "https://localhost:8080/"
        },
        "id": "C3NlvG0DM2uL",
        "outputId": "481e0df2-ae79-4c13-ef68-f4f170a0d1fa"
      },
      "execution_count": null,
      "outputs": [
        {
          "output_type": "stream",
          "name": "stdout",
          "text": [
            "6 Esto es un entere\n"
          ]
        }
      ]
    },
    {
      "cell_type": "code",
      "source": [
        "#hacer un ejercicio en Python haciendo uso de funciones, que reste dps numeros introducidos por el usuario\n"
      ],
      "metadata": {
        "id": "2f-RsHLOVfXT"
      },
      "execution_count": null,
      "outputs": []
    },
    {
      "cell_type": "code",
      "source": [
        "#hacer un ejercicio en Python haciendo uso de funciones de usuario, que convierta hrados celcios a farenteheit\n",
        "\n",
        "def celciusFarenheit(c):\n",
        " return c*1.8 + 32\n",
        " c = int(input(\"Grados c:\"))\n",
        "f = celciusFarenheit(c)\n",
        "print(\"F\", f )"
      ],
      "metadata": {
        "id": "b7Ft3ybUVz_D"
      },
      "execution_count": null,
      "outputs": []
    },
    {
      "cell_type": "code",
      "source": [
        "#Hacer un ejercicio de python haciendo uso de funciones de usuario, que convierta grados farenheit a celsius.\n",
        "def farenteheitCelcius(f):\n",
        "    return (f-32)*5/9\n",
        "\n",
        "c = float(input(\"farenheit G: \"))\n",
        "f =farenteheitCelcius(c)\n",
        "print(\"Grados:\", f )"
      ],
      "metadata": {
        "colab": {
          "base_uri": "https://localhost:8080/"
        },
        "id": "qajXeBkNaTW1",
        "outputId": "9d6271a7-fa8a-4cb0-95f7-35c5f0c414fd"
      },
      "execution_count": 23,
      "outputs": [
        {
          "output_type": "stream",
          "name": "stdout",
          "text": [
            "farenheit G: 100.4\n",
            "Grados: 38.0\n"
          ]
        }
      ]
    },
    {
      "cell_type": "code",
      "source": [
        "#Hacer un ejercicio de python haciendo uso de funciones de usuario, que convierta grados celcius a Kelvin\n",
        "\n",
        "def celciusKelvin(f):\n",
        "    return (f + 273.15)\n",
        "\n",
        "c = float(input(\"celcius G: \"))\n",
        "f =celciusKelvin(c)\n",
        "print(\" Estamos a:\", f , \"grados\" )"
      ],
      "metadata": {
        "colab": {
          "base_uri": "https://localhost:8080/"
        },
        "id": "L-IV2EE0ctOp",
        "outputId": "4e690c0f-fdf0-48a7-9b96-e025929a25f1"
      },
      "execution_count": 33,
      "outputs": [
        {
          "output_type": "stream",
          "name": "stdout",
          "text": [
            "celcius G: 58\n",
            " Estamos a: 331.15 grados\n"
          ]
        }
      ]
    },
    {
      "cell_type": "code",
      "source": [
        "#Hacer un ejercicio de python haciendo uso de funciones de usuario, que calcule\n",
        "#el sueldo de un empleado segun el numero de horas trabajadas y valor por hora\n",
        "\n",
        "def sueldo(numHrs , valorMax):\n",
        "  sueldo = numHrs * valorMax * 30\n",
        "  return sueldo"
      ],
      "metadata": {
        "id": "7p3GBpgmhczK"
      },
      "execution_count": 34,
      "outputs": []
    },
    {
      "cell_type": "code",
      "source": [
        "  numHrs = float(input(\"horas:\"))\n",
        "  valorMax = float(input(\"valor Xhrs:\"))\n",
        "  sueldo = sueldo(numHrs , valorMax)\n",
        "  print(\"sueldo: \", sueldo)"
      ],
      "metadata": {
        "id": "dIHxHe0QimX_"
      },
      "execution_count": null,
      "outputs": []
    },
    {
      "cell_type": "code",
      "source": [
        "#Hacer un ejercicio de python haciendo uso de funciones de usuario, que permita elevar un numerp a un exponente\n",
        "  def exponete(b,e):\n",
        "    return b**e\n",
        "\n",
        "    b = float(input(\"base: \"))\n",
        "    e = float(input(\"Exponete: \"))\n",
        "\n",
        "    resultado = exponete(b,e)\n",
        "    print(\"el numero \", b, \"elevado a \",e, \", el resultado es : \", resultado )"
      ],
      "metadata": {
        "id": "Ti5y23-5j5TI"
      },
      "execution_count": null,
      "outputs": []
    }
  ]
}